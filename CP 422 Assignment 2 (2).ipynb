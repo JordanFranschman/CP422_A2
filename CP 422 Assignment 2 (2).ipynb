{
 "cells": [
  {
   "cell_type": "code",
   "execution_count": 0,
   "metadata": {
    "application/vnd.databricks.v1+cell": {
     "cellMetadata": {
      "byteLimit": 2048000,
      "rowLimit": 10000
     },
     "inputWidgets": {},
     "nuid": "df80d8a3-2135-4db5-84da-fd55fe7edd5b",
     "showTitle": false,
     "tableResultSettingsMap": {},
     "title": ""
    }
   },
   "outputs": [
    {
     "output_type": "display_data",
     "data": {
      "text/html": [
       "<style scoped>\n",
       "  .table-result-container {\n",
       "    max-height: 300px;\n",
       "    overflow: auto;\n",
       "  }\n",
       "  table, th, td {\n",
       "    border: 1px solid black;\n",
       "    border-collapse: collapse;\n",
       "  }\n",
       "  th, td {\n",
       "    padding: 5px;\n",
       "  }\n",
       "  th {\n",
       "    text-align: left;\n",
       "  }\n",
       "</style><div class='table-result-container'><table class='table-result'><thead style='background-color: white'><tr><th>VendorID</th><th>tpep_pickup_datetime</th><th>tpep_dropoff_datetime</th><th>passenger_count</th><th>trip_distance</th><th>pickup_longitude</th><th>pickup_latitude</th><th>RateCodeID</th><th>store_and_fwd_flag</th><th>dropoff_longitude</th><th>dropoff_latitude</th><th>payment_type</th><th>fare_amount</th><th>extra</th><th>mta_tax</th><th>tip_amount</th><th>tolls_amount</th><th>improvement_surcharge</th><th>total_amount</th></tr></thead><tbody><tr><td>2</td><td>2015-01-15T19:05:39.000Z</td><td>2015-01-15T19:23:42.000Z</td><td>1</td><td>1.59</td><td>-73.993896484375</td><td>40.7501106262207</td><td>1</td><td>N</td><td>-73.97478485107422</td><td>40.75061798095703</td><td>1</td><td>12.0</td><td>1.0</td><td>0.5</td><td>3.25</td><td>0.0</td><td>0.3</td><td>17.05</td></tr><tr><td>1</td><td>2015-01-10T20:33:38.000Z</td><td>2015-01-10T20:53:28.000Z</td><td>1</td><td>3.3</td><td>-74.00164794921875</td><td>40.7242431640625</td><td>1</td><td>N</td><td>-73.99441528320312</td><td>40.75910949707031</td><td>1</td><td>14.5</td><td>0.5</td><td>0.5</td><td>2.0</td><td>0.0</td><td>0.3</td><td>17.8</td></tr><tr><td>1</td><td>2015-01-10T20:33:38.000Z</td><td>2015-01-10T20:43:41.000Z</td><td>1</td><td>1.8</td><td>-73.96334075927734</td><td>40.80278778076172</td><td>1</td><td>N</td><td>-73.95182037353516</td><td>40.82441329956055</td><td>2</td><td>9.5</td><td>0.5</td><td>0.5</td><td>0.0</td><td>0.0</td><td>0.3</td><td>10.8</td></tr><tr><td>1</td><td>2015-01-10T20:33:39.000Z</td><td>2015-01-10T20:35:31.000Z</td><td>1</td><td>0.5</td><td>-74.00908660888672</td><td>40.71381759643555</td><td>1</td><td>N</td><td>-74.00432586669922</td><td>40.71998596191406</td><td>2</td><td>3.5</td><td>0.5</td><td>0.5</td><td>0.0</td><td>0.0</td><td>0.3</td><td>4.8</td></tr><tr><td>1</td><td>2015-01-10T20:33:39.000Z</td><td>2015-01-10T20:52:58.000Z</td><td>1</td><td>3.0</td><td>-73.97117614746094</td><td>40.762428283691406</td><td>1</td><td>N</td><td>-74.00418090820312</td><td>40.742652893066406</td><td>2</td><td>15.0</td><td>0.5</td><td>0.5</td><td>0.0</td><td>0.0</td><td>0.3</td><td>16.3</td></tr><tr><td>1</td><td>2015-01-10T20:33:39.000Z</td><td>2015-01-10T20:53:52.000Z</td><td>1</td><td>9.0</td><td>-73.87437438964844</td><td>40.7740478515625</td><td>1</td><td>N</td><td>-73.98697662353516</td><td>40.75819396972656</td><td>1</td><td>27.0</td><td>0.5</td><td>0.5</td><td>6.7</td><td>5.33</td><td>0.3</td><td>40.33</td></tr><tr><td>1</td><td>2015-01-10T20:33:39.000Z</td><td>2015-01-10T20:58:31.000Z</td><td>1</td><td>2.2</td><td>-73.9832763671875</td><td>40.726009368896484</td><td>1</td><td>N</td><td>-73.99246978759766</td><td>40.7496337890625</td><td>2</td><td>14.0</td><td>0.5</td><td>0.5</td><td>0.0</td><td>0.0</td><td>0.3</td><td>15.3</td></tr><tr><td>1</td><td>2015-01-10T20:33:39.000Z</td><td>2015-01-10T20:42:20.000Z</td><td>3</td><td>0.8</td><td>-74.0026626586914</td><td>40.7341423034668</td><td>1</td><td>N</td><td>-73.99501037597656</td><td>40.72632598876953</td><td>1</td><td>7.0</td><td>0.5</td><td>0.5</td><td>1.66</td><td>0.0</td><td>0.3</td><td>9.96</td></tr><tr><td>1</td><td>2015-01-10T20:33:39.000Z</td><td>2015-01-10T21:11:35.000Z</td><td>3</td><td>18.2</td><td>-73.78304290771484</td><td>40.64435577392578</td><td>2</td><td>N</td><td>-73.98759460449219</td><td>40.75935745239258</td><td>2</td><td>52.0</td><td>0.0</td><td>0.5</td><td>0.0</td><td>5.33</td><td>0.3</td><td>58.13</td></tr><tr><td>1</td><td>2015-01-10T20:33:40.000Z</td><td>2015-01-10T20:40:44.000Z</td><td>2</td><td>0.9</td><td>-73.98558807373047</td><td>40.767948150634766</td><td>1</td><td>N</td><td>-73.98591613769531</td><td>40.75936508178711</td><td>1</td><td>6.5</td><td>0.5</td><td>0.5</td><td>1.55</td><td>0.0</td><td>0.3</td><td>9.35</td></tr></tbody></table></div>"
      ]
     },
     "metadata": {
      "application/vnd.databricks.v1+output": {
       "addedWidgets": {},
       "aggData": [],
       "aggError": "",
       "aggOverflow": false,
       "aggSchema": [],
       "aggSeriesLimitReached": false,
       "aggType": "",
       "arguments": {},
       "columnCustomDisplayInfos": {},
       "data": [
        [
         2,
         "2015-01-15T19:05:39.000Z",
         "2015-01-15T19:23:42.000Z",
         1,
         1.59,
         -73.993896484375,
         40.7501106262207,
         1,
         "N",
         -73.97478485107422,
         40.75061798095703,
         1,
         12.0,
         1.0,
         0.5,
         3.25,
         0.0,
         0.3,
         17.05
        ],
        [
         1,
         "2015-01-10T20:33:38.000Z",
         "2015-01-10T20:53:28.000Z",
         1,
         3.3,
         -74.00164794921875,
         40.7242431640625,
         1,
         "N",
         -73.99441528320312,
         40.75910949707031,
         1,
         14.5,
         0.5,
         0.5,
         2.0,
         0.0,
         0.3,
         17.8
        ],
        [
         1,
         "2015-01-10T20:33:38.000Z",
         "2015-01-10T20:43:41.000Z",
         1,
         1.8,
         -73.96334075927734,
         40.80278778076172,
         1,
         "N",
         -73.95182037353516,
         40.82441329956055,
         2,
         9.5,
         0.5,
         0.5,
         0.0,
         0.0,
         0.3,
         10.8
        ],
        [
         1,
         "2015-01-10T20:33:39.000Z",
         "2015-01-10T20:35:31.000Z",
         1,
         0.5,
         -74.00908660888672,
         40.71381759643555,
         1,
         "N",
         -74.00432586669922,
         40.71998596191406,
         2,
         3.5,
         0.5,
         0.5,
         0.0,
         0.0,
         0.3,
         4.8
        ],
        [
         1,
         "2015-01-10T20:33:39.000Z",
         "2015-01-10T20:52:58.000Z",
         1,
         3.0,
         -73.97117614746094,
         40.762428283691406,
         1,
         "N",
         -74.00418090820312,
         40.742652893066406,
         2,
         15.0,
         0.5,
         0.5,
         0.0,
         0.0,
         0.3,
         16.3
        ],
        [
         1,
         "2015-01-10T20:33:39.000Z",
         "2015-01-10T20:53:52.000Z",
         1,
         9.0,
         -73.87437438964844,
         40.7740478515625,
         1,
         "N",
         -73.98697662353516,
         40.75819396972656,
         1,
         27.0,
         0.5,
         0.5,
         6.7,
         5.33,
         0.3,
         40.33
        ],
        [
         1,
         "2015-01-10T20:33:39.000Z",
         "2015-01-10T20:58:31.000Z",
         1,
         2.2,
         -73.9832763671875,
         40.726009368896484,
         1,
         "N",
         -73.99246978759766,
         40.7496337890625,
         2,
         14.0,
         0.5,
         0.5,
         0.0,
         0.0,
         0.3,
         15.3
        ],
        [
         1,
         "2015-01-10T20:33:39.000Z",
         "2015-01-10T20:42:20.000Z",
         3,
         0.8,
         -74.0026626586914,
         40.7341423034668,
         1,
         "N",
         -73.99501037597656,
         40.72632598876953,
         1,
         7.0,
         0.5,
         0.5,
         1.66,
         0.0,
         0.3,
         9.96
        ],
        [
         1,
         "2015-01-10T20:33:39.000Z",
         "2015-01-10T21:11:35.000Z",
         3,
         18.2,
         -73.78304290771484,
         40.64435577392578,
         2,
         "N",
         -73.98759460449219,
         40.75935745239258,
         2,
         52.0,
         0.0,
         0.5,
         0.0,
         5.33,
         0.3,
         58.13
        ],
        [
         1,
         "2015-01-10T20:33:40.000Z",
         "2015-01-10T20:40:44.000Z",
         2,
         0.9,
         -73.98558807373047,
         40.767948150634766,
         1,
         "N",
         -73.98591613769531,
         40.75936508178711,
         1,
         6.5,
         0.5,
         0.5,
         1.55,
         0.0,
         0.3,
         9.35
        ]
       ],
       "datasetInfos": [],
       "dbfsResultPath": null,
       "isJsonSchema": true,
       "metadata": {},
       "overflow": false,
       "plotOptions": {
        "customPlotOptions": {},
        "displayType": "table",
        "pivotAggregation": null,
        "pivotColumns": null,
        "xColumns": null,
        "yColumns": null
       },
       "removedWidgets": [],
       "schema": [
        {
         "metadata": "{}",
         "name": "VendorID",
         "type": "\"integer\""
        },
        {
         "metadata": "{}",
         "name": "tpep_pickup_datetime",
         "type": "\"timestamp\""
        },
        {
         "metadata": "{}",
         "name": "tpep_dropoff_datetime",
         "type": "\"timestamp\""
        },
        {
         "metadata": "{}",
         "name": "passenger_count",
         "type": "\"integer\""
        },
        {
         "metadata": "{}",
         "name": "trip_distance",
         "type": "\"double\""
        },
        {
         "metadata": "{}",
         "name": "pickup_longitude",
         "type": "\"double\""
        },
        {
         "metadata": "{}",
         "name": "pickup_latitude",
         "type": "\"double\""
        },
        {
         "metadata": "{}",
         "name": "RateCodeID",
         "type": "\"integer\""
        },
        {
         "metadata": "{}",
         "name": "store_and_fwd_flag",
         "type": "\"string\""
        },
        {
         "metadata": "{}",
         "name": "dropoff_longitude",
         "type": "\"double\""
        },
        {
         "metadata": "{}",
         "name": "dropoff_latitude",
         "type": "\"double\""
        },
        {
         "metadata": "{}",
         "name": "payment_type",
         "type": "\"integer\""
        },
        {
         "metadata": "{}",
         "name": "fare_amount",
         "type": "\"double\""
        },
        {
         "metadata": "{}",
         "name": "extra",
         "type": "\"double\""
        },
        {
         "metadata": "{}",
         "name": "mta_tax",
         "type": "\"double\""
        },
        {
         "metadata": "{}",
         "name": "tip_amount",
         "type": "\"double\""
        },
        {
         "metadata": "{}",
         "name": "tolls_amount",
         "type": "\"double\""
        },
        {
         "metadata": "{}",
         "name": "improvement_surcharge",
         "type": "\"double\""
        },
        {
         "metadata": "{}",
         "name": "total_amount",
         "type": "\"double\""
        }
       ],
       "type": "table"
      }
     },
     "output_type": "display_data"
    }
   ],
   "source": [
    "from pyspark.sql.functions import col, to_timestamp, round, avg\n",
    "\n",
    "# Load the dataset in CSV format\n",
    "df = spark.read.csv(\"/Volumes/workspace/default/my_files/yellow_tripdata_2015-01.csv\", header=True,inferSchema=True)\n",
    "display(df.limit(10))"
   ]
  },
  {
   "cell_type": "code",
   "execution_count": 0,
   "metadata": {
    "application/vnd.databricks.v1+cell": {
     "cellMetadata": {
      "byteLimit": 2048000,
      "rowLimit": 10000
     },
     "inputWidgets": {},
     "nuid": "2edffaee-035c-4a7d-8f34-26ed8308d6ea",
     "showTitle": false,
     "tableResultSettingsMap": {},
     "title": ""
    }
   },
   "outputs": [
    {
     "output_type": "display_data",
     "data": {
      "text/html": [
       "<style scoped>\n",
       "  .table-result-container {\n",
       "    max-height: 300px;\n",
       "    overflow: auto;\n",
       "  }\n",
       "  table, th, td {\n",
       "    border: 1px solid black;\n",
       "    border-collapse: collapse;\n",
       "  }\n",
       "  th, td {\n",
       "    padding: 5px;\n",
       "  }\n",
       "  th {\n",
       "    text-align: left;\n",
       "  }\n",
       "</style><div class='table-result-container'><table class='table-result'><thead style='background-color: white'><tr><th>VendorID</th><th>tpep_pickup_datetime</th><th>tpep_dropoff_datetime</th><th>passenger_count</th><th>trip_distance</th><th>pickup_longitude</th><th>pickup_latitude</th><th>RateCodeID</th><th>store_and_fwd_flag</th><th>dropoff_longitude</th><th>dropoff_latitude</th><th>payment_type</th><th>fare_amount</th><th>extra</th><th>mta_tax</th><th>tip_amount</th><th>tolls_amount</th><th>improvement_surcharge</th><th>total_amount</th></tr></thead><tbody><tr><td>2</td><td>2015-01-02T20:06:34.000Z</td><td>2015-01-02T20:23:33.000Z</td><td>1</td><td>0.4</td><td>-74.01433563232422</td><td>40.711856842041016</td><td>1</td><td>N</td><td>-73.98519134521484</td><td>40.76046371459961</td><td>2</td><td>3005.5</td><td>0.05</td><td>0.5</td><td>0.0</td><td>0.0</td><td>0.3</td><td>3006.35</td></tr><tr><td>1</td><td>2015-01-22T21:12:26.000Z</td><td>2015-01-22T21:20:36.000Z</td><td>1</td><td>1.7</td><td>-73.96153259277344</td><td>40.77063751220703</td><td>1</td><td>N</td><td>-73.97850799560547</td><td>40.749515533447266</td><td>2</td><td>4008.0</td><td>0.5</td><td>0.5</td><td>0.0</td><td>0.0</td><td>0.3</td><td>4009.3</td></tr></tbody></table></div>"
      ]
     },
     "metadata": {
      "application/vnd.databricks.v1+output": {
       "addedWidgets": {},
       "aggData": [],
       "aggError": "",
       "aggOverflow": false,
       "aggSchema": [],
       "aggSeriesLimitReached": false,
       "aggType": "",
       "arguments": {},
       "columnCustomDisplayInfos": {},
       "data": [
        [
         2,
         "2015-01-02T20:06:34.000Z",
         "2015-01-02T20:23:33.000Z",
         1,
         0.4,
         -74.01433563232422,
         40.711856842041016,
         1,
         "N",
         -73.98519134521484,
         40.76046371459961,
         2,
         3005.5,
         0.05,
         0.5,
         0.0,
         0.0,
         0.3,
         3006.35
        ],
        [
         1,
         "2015-01-22T21:12:26.000Z",
         "2015-01-22T21:20:36.000Z",
         1,
         1.7,
         -73.96153259277344,
         40.77063751220703,
         1,
         "N",
         -73.97850799560547,
         40.749515533447266,
         2,
         4008.0,
         0.5,
         0.5,
         0.0,
         0.0,
         0.3,
         4009.3
        ]
       ],
       "datasetInfos": [],
       "dbfsResultPath": null,
       "isJsonSchema": true,
       "metadata": {},
       "overflow": false,
       "plotOptions": {
        "customPlotOptions": {},
        "displayType": "table",
        "pivotAggregation": null,
        "pivotColumns": null,
        "xColumns": null,
        "yColumns": null
       },
       "removedWidgets": [],
       "schema": [
        {
         "metadata": "{}",
         "name": "VendorID",
         "type": "\"integer\""
        },
        {
         "metadata": "{}",
         "name": "tpep_pickup_datetime",
         "type": "\"timestamp\""
        },
        {
         "metadata": "{}",
         "name": "tpep_dropoff_datetime",
         "type": "\"timestamp\""
        },
        {
         "metadata": "{}",
         "name": "passenger_count",
         "type": "\"integer\""
        },
        {
         "metadata": "{}",
         "name": "trip_distance",
         "type": "\"double\""
        },
        {
         "metadata": "{}",
         "name": "pickup_longitude",
         "type": "\"double\""
        },
        {
         "metadata": "{}",
         "name": "pickup_latitude",
         "type": "\"double\""
        },
        {
         "metadata": "{}",
         "name": "RateCodeID",
         "type": "\"integer\""
        },
        {
         "metadata": "{}",
         "name": "store_and_fwd_flag",
         "type": "\"string\""
        },
        {
         "metadata": "{}",
         "name": "dropoff_longitude",
         "type": "\"double\""
        },
        {
         "metadata": "{}",
         "name": "dropoff_latitude",
         "type": "\"double\""
        },
        {
         "metadata": "{}",
         "name": "payment_type",
         "type": "\"integer\""
        },
        {
         "metadata": "{}",
         "name": "fare_amount",
         "type": "\"double\""
        },
        {
         "metadata": "{}",
         "name": "extra",
         "type": "\"double\""
        },
        {
         "metadata": "{}",
         "name": "mta_tax",
         "type": "\"double\""
        },
        {
         "metadata": "{}",
         "name": "tip_amount",
         "type": "\"double\""
        },
        {
         "metadata": "{}",
         "name": "tolls_amount",
         "type": "\"double\""
        },
        {
         "metadata": "{}",
         "name": "improvement_surcharge",
         "type": "\"double\""
        },
        {
         "metadata": "{}",
         "name": "total_amount",
         "type": "\"double\""
        }
       ],
       "type": "table"
      }
     },
     "output_type": "display_data"
    },
    {
     "output_type": "display_data",
     "data": {
      "text/html": [
       "<style scoped>\n",
       "  .table-result-container {\n",
       "    max-height: 300px;\n",
       "    overflow: auto;\n",
       "  }\n",
       "  table, th, td {\n",
       "    border: 1px solid black;\n",
       "    border-collapse: collapse;\n",
       "  }\n",
       "  th, td {\n",
       "    padding: 5px;\n",
       "  }\n",
       "  th {\n",
       "    text-align: left;\n",
       "  }\n",
       "</style><div class='table-result-container'><table class='table-result'><thead style='background-color: white'><tr><th>VendorID</th><th>tpep_pickup_datetime</th><th>tpep_dropoff_datetime</th><th>passenger_count</th><th>trip_distance</th><th>pickup_longitude</th><th>pickup_latitude</th><th>RateCodeID</th><th>store_and_fwd_flag</th><th>dropoff_longitude</th><th>dropoff_latitude</th><th>payment_type</th><th>fare_amount</th><th>extra</th><th>mta_tax</th><th>tip_amount</th><th>tolls_amount</th><th>improvement_surcharge</th><th>total_amount</th></tr></thead><tbody><tr><td>1</td><td>2015-01-28T20:22:19.000Z</td><td>2015-01-28T20:23:19.000Z</td><td>2</td><td>4.8</td><td>-74.03569030761719</td><td>40.743648529052734</td><td>5</td><td>N</td><td>-74.03571319580078</td><td>40.74365997314453</td><td>3</td><td>0.0</td><td>0.0</td><td>0.0</td><td>0.0</td><td>0.0</td><td>0.3</td><td>0.3</td></tr><tr><td>2</td><td>2015-01-17T22:40:27.000Z</td><td>2015-01-17T22:43:04.000Z</td><td>1</td><td>0.11</td><td>-74.00235748291016</td><td>40.73982620239258</td><td>1</td><td>N</td><td>-74.00111389160156</td><td>40.74110794067383</td><td>4</td><td>-3.5</td><td>-0.5</td><td>-0.5</td><td>0.0</td><td>0.0</td><td>0.3</td><td>-4.8</td></tr><tr><td>2</td><td>2015-01-15T17:33:24.000Z</td><td>2015-01-15T17:33:31.000Z</td><td>2</td><td>0.0</td><td>-73.9825668334961</td><td>40.73979949951172</td><td>1</td><td>N</td><td>-73.9825668334961</td><td>40.73979949951172</td><td>3</td><td>-2.5</td><td>-1.0</td><td>-0.5</td><td>-0.7</td><td>0.0</td><td>0.3</td><td>-5.0</td></tr><tr><td>1</td><td>2015-01-21T10:16:35.000Z</td><td>2015-01-21T10:16:54.000Z</td><td>1</td><td>0.0</td><td>-73.9929428100586</td><td>40.76789855957031</td><td>5</td><td>N</td><td>-73.9929428100586</td><td>40.767887115478516</td><td>1</td><td>0.0</td><td>0.0</td><td>0.0</td><td>11.0</td><td>0.0</td><td>0.3</td><td>11.3</td></tr><tr><td>2</td><td>2015-01-06T12:43:31.000Z</td><td>2015-01-06T12:46:07.000Z</td><td>5</td><td>0.23</td><td>-73.9603271484375</td><td>40.76001739501953</td><td>2</td><td>N</td><td>-73.96344757080078</td><td>40.76166534423828</td><td>2</td><td>0.0</td><td>0.0</td><td>0.5</td><td>0.0</td><td>0.0</td><td>0.3</td><td>0.0</td></tr><tr><td>1</td><td>2015-01-23T23:57:43.000Z</td><td>2015-01-24T00:35:26.000Z</td><td>2</td><td>13.4</td><td>-73.97903442382812</td><td>40.7663688659668</td><td>5</td><td>N</td><td>-74.15727996826172</td><td>40.73886489868164</td><td>4</td><td>0.0</td><td>0.0</td><td>0.0</td><td>0.0</td><td>0.0</td><td>0.3</td><td>0.3</td></tr><tr><td>2</td><td>2015-01-16T16:00:45.000Z</td><td>2015-01-16T16:00:53.000Z</td><td>1</td><td>0.0</td><td>-73.9377212524414</td><td>40.75819396972656</td><td>1</td><td>N</td><td>-73.9377212524414</td><td>40.75819396972656</td><td>3</td><td>-2.5</td><td>-1.0</td><td>-0.5</td><td>0.0</td><td>0.0</td><td>0.3</td><td>-4.3</td></tr><tr><td>1</td><td>2015-01-08T22:26:34.000Z</td><td>2015-01-08T22:26:34.000Z</td><td>1</td><td>0.0</td><td>0.0</td><td>0.0</td><td>5</td><td>Y</td><td>0.0</td><td>0.0</td><td>2</td><td>0.0</td><td>0.0</td><td>0.0</td><td>0.0</td><td>0.0</td><td>0.3</td><td>0.3</td></tr><tr><td>2</td><td>2015-01-31T23:38:52.000Z</td><td>2015-01-31T23:38:54.000Z</td><td>2</td><td>0.0</td><td>0.0</td><td>0.0</td><td>2</td><td>N</td><td>0.0</td><td>0.0</td><td>2</td><td>-52.0</td><td>0.0</td><td>-0.5</td><td>0.0</td><td>0.0</td><td>0.3</td><td>-52.8</td></tr><tr><td>1</td><td>2015-01-22T09:32:57.000Z</td><td>2015-01-22T09:54:39.000Z</td><td>3</td><td>2.4</td><td>-73.95448303222656</td><td>40.74155807495117</td><td>5</td><td>N</td><td>-73.99308013916016</td><td>40.74636459350586</td><td>1</td><td>0.0</td><td>0.0</td><td>0.0</td><td>10.0</td><td>0.0</td><td>0.3</td><td>10.3</td></tr><tr><td>1</td><td>2015-01-05T02:27:56.000Z</td><td>2015-01-05T02:32:51.000Z</td><td>2</td><td>2.9</td><td>0.0</td><td>0.0</td><td>5</td><td>N</td><td>-73.97557067871094</td><td>40.74790573120117</td><td>3</td><td>0.0</td><td>0.0</td><td>0.0</td><td>0.0</td><td>5.33</td><td>0.3</td><td>5.63</td></tr><tr><td>2</td><td>2015-01-10T02:23:53.000Z</td><td>2015-01-10T02:23:58.000Z</td><td>2</td><td>0.0</td><td>0.0</td><td>0.0</td><td>5</td><td>N</td><td>0.0</td><td>0.0</td><td>1</td><td>-6.8</td><td>0.0</td><td>0.0</td><td>-1.0</td><td>0.0</td><td>0.3</td><td>-8.1</td></tr><tr><td>2</td><td>2015-01-13T08:45:10.000Z</td><td>2015-01-13T08:46:32.000Z</td><td>5</td><td>0.0</td><td>-73.90199279785156</td><td>40.76407241821289</td><td>1</td><td>N</td><td>-73.90202331542969</td><td>40.764068603515625</td><td>2</td><td>0.0</td><td>0.0</td><td>0.0</td><td>0.0</td><td>0.0</td><td>0.3</td><td>0.0</td></tr><tr><td>2</td><td>2015-01-14T11:52:09.000Z</td><td>2015-01-14T11:52:20.000Z</td><td>1</td><td>0.0</td><td>-73.78995513916016</td><td>40.64694595336914</td><td>2</td><td>N</td><td>0.0</td><td>0.0</td><td>3</td><td>-52.0</td><td>0.0</td><td>-0.5</td><td>-14.33</td><td>-5.33</td><td>0.3</td><td>-72.46</td></tr><tr><td>2</td><td>2015-01-03T02:01:25.000Z</td><td>2015-01-03T02:01:54.000Z</td><td>1</td><td>0.03</td><td>-73.95340728759766</td><td>40.81114959716797</td><td>1</td><td>N</td><td>-73.95375061035156</td><td>40.811302185058594</td><td>2</td><td>-2.5</td><td>-0.5</td><td>-0.5</td><td>0.0</td><td>0.0</td><td>0.3</td><td>-3.8</td></tr><tr><td>2</td><td>2015-01-20T20:44:47.000Z</td><td>2015-01-20T20:44:48.000Z</td><td>1</td><td>0.0</td><td>0.0</td><td>0.0</td><td>1</td><td>N</td><td>-73.9373779296875</td><td>40.758209228515625</td><td>1</td><td>0.0</td><td>0.0</td><td>0.0</td><td>0.0</td><td>0.0</td><td>0.3</td><td>0.0</td></tr><tr><td>2</td><td>2015-01-17T11:12:35.000Z</td><td>2015-01-17T11:14:52.000Z</td><td>1</td><td>0.0</td><td>-73.93765258789062</td><td>40.758121490478516</td><td>1</td><td>N</td><td>-73.93766021728516</td><td>40.75809097290039</td><td>1</td><td>0.0</td><td>0.0</td><td>0.0</td><td>0.0</td><td>0.0</td><td>0.3</td><td>0.0</td></tr><tr><td>2</td><td>2015-01-12T15:07:29.000Z</td><td>2015-01-12T15:07:35.000Z</td><td>1</td><td>0.0</td><td>0.0</td><td>0.0</td><td>2</td><td>N</td><td>0.0</td><td>0.0</td><td>2</td><td>-52.0</td><td>0.0</td><td>-0.5</td><td>0.0</td><td>0.0</td><td>0.3</td><td>-52.8</td></tr><tr><td>2</td><td>2015-01-06T14:07:25.000Z</td><td>2015-01-06T14:08:27.000Z</td><td>1</td><td>0.03</td><td>-73.99456024169922</td><td>40.740318298339844</td><td>1</td><td>N</td><td>-73.99533081054688</td><td>40.74095153808594</td><td>4</td><td>-2.5</td><td>0.0</td><td>-0.5</td><td>0.0</td><td>0.0</td><td>0.3</td><td>-3.3</td></tr><tr><td>2</td><td>2015-01-10T21:10:20.000Z</td><td>2015-01-10T21:12:39.000Z</td><td>1</td><td>0.03</td><td>-73.986328125</td><td>40.755279541015625</td><td>1</td><td>N</td><td>-73.98542022705078</td><td>40.755088806152344</td><td>4</td><td>-3.5</td><td>-0.5</td><td>-0.5</td><td>0.0</td><td>0.0</td><td>0.3</td><td>-4.8</td></tr></tbody></table></div>"
      ]
     },
     "metadata": {
      "application/vnd.databricks.v1+output": {
       "addedWidgets": {},
       "aggData": [],
       "aggError": "",
       "aggOverflow": false,
       "aggSchema": [],
       "aggSeriesLimitReached": false,
       "aggType": "",
       "arguments": {},
       "columnCustomDisplayInfos": {},
       "data": [
        [
         1,
         "2015-01-28T20:22:19.000Z",
         "2015-01-28T20:23:19.000Z",
         2,
         4.8,
         -74.03569030761719,
         40.743648529052734,
         5,
         "N",
         -74.03571319580078,
         40.74365997314453,
         3,
         0.0,
         0.0,
         0.0,
         0.0,
         0.0,
         0.3,
         0.3
        ],
        [
         2,
         "2015-01-17T22:40:27.000Z",
         "2015-01-17T22:43:04.000Z",
         1,
         0.11,
         -74.00235748291016,
         40.73982620239258,
         1,
         "N",
         -74.00111389160156,
         40.74110794067383,
         4,
         -3.5,
         -0.5,
         -0.5,
         0.0,
         0.0,
         0.3,
         -4.8
        ],
        [
         2,
         "2015-01-15T17:33:24.000Z",
         "2015-01-15T17:33:31.000Z",
         2,
         0.0,
         -73.9825668334961,
         40.73979949951172,
         1,
         "N",
         -73.9825668334961,
         40.73979949951172,
         3,
         -2.5,
         -1.0,
         -0.5,
         -0.7,
         0.0,
         0.3,
         -5.0
        ],
        [
         1,
         "2015-01-21T10:16:35.000Z",
         "2015-01-21T10:16:54.000Z",
         1,
         0.0,
         -73.9929428100586,
         40.76789855957031,
         5,
         "N",
         -73.9929428100586,
         40.767887115478516,
         1,
         0.0,
         0.0,
         0.0,
         11.0,
         0.0,
         0.3,
         11.3
        ],
        [
         2,
         "2015-01-06T12:43:31.000Z",
         "2015-01-06T12:46:07.000Z",
         5,
         0.23,
         -73.9603271484375,
         40.76001739501953,
         2,
         "N",
         -73.96344757080078,
         40.76166534423828,
         2,
         0.0,
         0.0,
         0.5,
         0.0,
         0.0,
         0.3,
         0.0
        ],
        [
         1,
         "2015-01-23T23:57:43.000Z",
         "2015-01-24T00:35:26.000Z",
         2,
         13.4,
         -73.97903442382812,
         40.7663688659668,
         5,
         "N",
         -74.15727996826172,
         40.73886489868164,
         4,
         0.0,
         0.0,
         0.0,
         0.0,
         0.0,
         0.3,
         0.3
        ],
        [
         2,
         "2015-01-16T16:00:45.000Z",
         "2015-01-16T16:00:53.000Z",
         1,
         0.0,
         -73.9377212524414,
         40.75819396972656,
         1,
         "N",
         -73.9377212524414,
         40.75819396972656,
         3,
         -2.5,
         -1.0,
         -0.5,
         0.0,
         0.0,
         0.3,
         -4.3
        ],
        [
         1,
         "2015-01-08T22:26:34.000Z",
         "2015-01-08T22:26:34.000Z",
         1,
         0.0,
         0.0,
         0.0,
         5,
         "Y",
         0.0,
         0.0,
         2,
         0.0,
         0.0,
         0.0,
         0.0,
         0.0,
         0.3,
         0.3
        ],
        [
         2,
         "2015-01-31T23:38:52.000Z",
         "2015-01-31T23:38:54.000Z",
         2,
         0.0,
         0.0,
         0.0,
         2,
         "N",
         0.0,
         0.0,
         2,
         -52.0,
         0.0,
         -0.5,
         0.0,
         0.0,
         0.3,
         -52.8
        ],
        [
         1,
         "2015-01-22T09:32:57.000Z",
         "2015-01-22T09:54:39.000Z",
         3,
         2.4,
         -73.95448303222656,
         40.74155807495117,
         5,
         "N",
         -73.99308013916016,
         40.74636459350586,
         1,
         0.0,
         0.0,
         0.0,
         10.0,
         0.0,
         0.3,
         10.3
        ],
        [
         1,
         "2015-01-05T02:27:56.000Z",
         "2015-01-05T02:32:51.000Z",
         2,
         2.9,
         0.0,
         0.0,
         5,
         "N",
         -73.97557067871094,
         40.74790573120117,
         3,
         0.0,
         0.0,
         0.0,
         0.0,
         5.33,
         0.3,
         5.63
        ],
        [
         2,
         "2015-01-10T02:23:53.000Z",
         "2015-01-10T02:23:58.000Z",
         2,
         0.0,
         0.0,
         0.0,
         5,
         "N",
         0.0,
         0.0,
         1,
         -6.8,
         0.0,
         0.0,
         -1.0,
         0.0,
         0.3,
         -8.1
        ],
        [
         2,
         "2015-01-13T08:45:10.000Z",
         "2015-01-13T08:46:32.000Z",
         5,
         0.0,
         -73.90199279785156,
         40.76407241821289,
         1,
         "N",
         -73.90202331542969,
         40.764068603515625,
         2,
         0.0,
         0.0,
         0.0,
         0.0,
         0.0,
         0.3,
         0.0
        ],
        [
         2,
         "2015-01-14T11:52:09.000Z",
         "2015-01-14T11:52:20.000Z",
         1,
         0.0,
         -73.78995513916016,
         40.64694595336914,
         2,
         "N",
         0.0,
         0.0,
         3,
         -52.0,
         0.0,
         -0.5,
         -14.33,
         -5.33,
         0.3,
         -72.46
        ],
        [
         2,
         "2015-01-03T02:01:25.000Z",
         "2015-01-03T02:01:54.000Z",
         1,
         0.03,
         -73.95340728759766,
         40.81114959716797,
         1,
         "N",
         -73.95375061035156,
         40.811302185058594,
         2,
         -2.5,
         -0.5,
         -0.5,
         0.0,
         0.0,
         0.3,
         -3.8
        ],
        [
         2,
         "2015-01-20T20:44:47.000Z",
         "2015-01-20T20:44:48.000Z",
         1,
         0.0,
         0.0,
         0.0,
         1,
         "N",
         -73.9373779296875,
         40.758209228515625,
         1,
         0.0,
         0.0,
         0.0,
         0.0,
         0.0,
         0.3,
         0.0
        ],
        [
         2,
         "2015-01-17T11:12:35.000Z",
         "2015-01-17T11:14:52.000Z",
         1,
         0.0,
         -73.93765258789062,
         40.758121490478516,
         1,
         "N",
         -73.93766021728516,
         40.75809097290039,
         1,
         0.0,
         0.0,
         0.0,
         0.0,
         0.0,
         0.3,
         0.0
        ],
        [
         2,
         "2015-01-12T15:07:29.000Z",
         "2015-01-12T15:07:35.000Z",
         1,
         0.0,
         0.0,
         0.0,
         2,
         "N",
         0.0,
         0.0,
         2,
         -52.0,
         0.0,
         -0.5,
         0.0,
         0.0,
         0.3,
         -52.8
        ],
        [
         2,
         "2015-01-06T14:07:25.000Z",
         "2015-01-06T14:08:27.000Z",
         1,
         0.03,
         -73.99456024169922,
         40.740318298339844,
         1,
         "N",
         -73.99533081054688,
         40.74095153808594,
         4,
         -2.5,
         0.0,
         -0.5,
         0.0,
         0.0,
         0.3,
         -3.3
        ],
        [
         2,
         "2015-01-10T21:10:20.000Z",
         "2015-01-10T21:12:39.000Z",
         1,
         0.03,
         -73.986328125,
         40.755279541015625,
         1,
         "N",
         -73.98542022705078,
         40.755088806152344,
         4,
         -3.5,
         -0.5,
         -0.5,
         0.0,
         0.0,
         0.3,
         -4.8
        ]
       ],
       "datasetInfos": [],
       "dbfsResultPath": null,
       "isJsonSchema": true,
       "metadata": {},
       "overflow": false,
       "plotOptions": {
        "customPlotOptions": {},
        "displayType": "table",
        "pivotAggregation": null,
        "pivotColumns": null,
        "xColumns": null,
        "yColumns": null
       },
       "removedWidgets": [],
       "schema": [
        {
         "metadata": "{}",
         "name": "VendorID",
         "type": "\"integer\""
        },
        {
         "metadata": "{}",
         "name": "tpep_pickup_datetime",
         "type": "\"timestamp\""
        },
        {
         "metadata": "{}",
         "name": "tpep_dropoff_datetime",
         "type": "\"timestamp\""
        },
        {
         "metadata": "{}",
         "name": "passenger_count",
         "type": "\"integer\""
        },
        {
         "metadata": "{}",
         "name": "trip_distance",
         "type": "\"double\""
        },
        {
         "metadata": "{}",
         "name": "pickup_longitude",
         "type": "\"double\""
        },
        {
         "metadata": "{}",
         "name": "pickup_latitude",
         "type": "\"double\""
        },
        {
         "metadata": "{}",
         "name": "RateCodeID",
         "type": "\"integer\""
        },
        {
         "metadata": "{}",
         "name": "store_and_fwd_flag",
         "type": "\"string\""
        },
        {
         "metadata": "{}",
         "name": "dropoff_longitude",
         "type": "\"double\""
        },
        {
         "metadata": "{}",
         "name": "dropoff_latitude",
         "type": "\"double\""
        },
        {
         "metadata": "{}",
         "name": "payment_type",
         "type": "\"integer\""
        },
        {
         "metadata": "{}",
         "name": "fare_amount",
         "type": "\"double\""
        },
        {
         "metadata": "{}",
         "name": "extra",
         "type": "\"double\""
        },
        {
         "metadata": "{}",
         "name": "mta_tax",
         "type": "\"double\""
        },
        {
         "metadata": "{}",
         "name": "tip_amount",
         "type": "\"double\""
        },
        {
         "metadata": "{}",
         "name": "tolls_amount",
         "type": "\"double\""
        },
        {
         "metadata": "{}",
         "name": "improvement_surcharge",
         "type": "\"double\""
        },
        {
         "metadata": "{}",
         "name": "total_amount",
         "type": "\"double\""
        }
       ],
       "type": "table"
      }
     },
     "output_type": "display_data"
    }
   ],
   "source": [
    "# Q1: Outlier Detection\n",
    "\n",
    "# Create temporary spark table for new york taxi dataframe (allow for querying)\n",
    "df.createOrReplaceTempView(\"taxi\")\n",
    "\n",
    "# Write a SQL query to find trips with fare amounts over $1000.\n",
    "display(spark.sql(\"\"\"\n",
    "SELECT * FROM taxi\n",
    "WHERE fare_amount > 1000\"\"\"))\n",
    "\n",
    "# Write another query to find trips with zero or negative fare amounts.\n",
    "display(spark.sql(\"\"\"\n",
    "SELECT * FROM taxi\n",
    "WHERE fare_amount <= 0\n",
    "LIMIT 20\"\"\"))\n"
   ]
  },
  {
   "cell_type": "code",
   "execution_count": 0,
   "metadata": {
    "application/vnd.databricks.v1+cell": {
     "cellMetadata": {
      "byteLimit": 2048000,
      "rowLimit": 10000
     },
     "inputWidgets": {},
     "nuid": "74fca764-6001-478e-9498-162dbb9d65a8",
     "showTitle": false,
     "tableResultSettingsMap": {},
     "title": ""
    }
   },
   "outputs": [
    {
     "output_type": "display_data",
     "data": {
      "text/html": [
       "<style scoped>\n",
       "  .table-result-container {\n",
       "    max-height: 300px;\n",
       "    overflow: auto;\n",
       "  }\n",
       "  table, th, td {\n",
       "    border: 1px solid black;\n",
       "    border-collapse: collapse;\n",
       "  }\n",
       "  th, td {\n",
       "    padding: 5px;\n",
       "  }\n",
       "  th {\n",
       "    text-align: left;\n",
       "  }\n",
       "</style><div class='table-result-container'><table class='table-result'><thead style='background-color: white'><tr><th>correlation_fare_trip</th></tr></thead><tbody><tr><td>4.422117955836895E-4</td></tr></tbody></table></div>"
      ]
     },
     "metadata": {
      "application/vnd.databricks.v1+output": {
       "addedWidgets": {},
       "aggData": [],
       "aggError": "",
       "aggOverflow": false,
       "aggSchema": [],
       "aggSeriesLimitReached": false,
       "aggType": "",
       "arguments": {},
       "columnCustomDisplayInfos": {},
       "data": [
        [
         4.422117955836895E-4
        ]
       ],
       "datasetInfos": [],
       "dbfsResultPath": null,
       "isJsonSchema": true,
       "metadata": {},
       "overflow": false,
       "plotOptions": {
        "customPlotOptions": {},
        "displayType": "table",
        "pivotAggregation": null,
        "pivotColumns": null,
        "xColumns": null,
        "yColumns": null
       },
       "removedWidgets": [],
       "schema": [
        {
         "metadata": "{}",
         "name": "correlation_fare_trip",
         "type": "\"double\""
        }
       ],
       "type": "table"
      }
     },
     "output_type": "display_data"
    },
    {
     "output_type": "display_data",
     "data": {
      "text/html": [
       "<style scoped>\n",
       "  .table-result-container {\n",
       "    max-height: 300px;\n",
       "    overflow: auto;\n",
       "  }\n",
       "  table, th, td {\n",
       "    border: 1px solid black;\n",
       "    border-collapse: collapse;\n",
       "  }\n",
       "  th, td {\n",
       "    padding: 5px;\n",
       "  }\n",
       "  th {\n",
       "    text-align: left;\n",
       "  }\n",
       "</style><div class='table-result-container'><table class='table-result'><thead style='background-color: white'><tr><th>correlation_total_trip</th></tr></thead><tbody><tr><td>3.3390645630738535E-6</td></tr></tbody></table></div>"
      ]
     },
     "metadata": {
      "application/vnd.databricks.v1+output": {
       "addedWidgets": {},
       "aggData": [],
       "aggError": "",
       "aggOverflow": false,
       "aggSchema": [],
       "aggSeriesLimitReached": false,
       "aggType": "",
       "arguments": {},
       "columnCustomDisplayInfos": {},
       "data": [
        [
         3.3390645630738535E-6
        ]
       ],
       "datasetInfos": [],
       "dbfsResultPath": null,
       "isJsonSchema": true,
       "metadata": {},
       "overflow": false,
       "plotOptions": {
        "customPlotOptions": {},
        "displayType": "table",
        "pivotAggregation": null,
        "pivotColumns": null,
        "xColumns": null,
        "yColumns": null
       },
       "removedWidgets": [],
       "schema": [
        {
         "metadata": "{}",
         "name": "correlation_total_trip",
         "type": "\"double\""
        }
       ],
       "type": "table"
      }
     },
     "output_type": "display_data"
    }
   ],
   "source": [
    "# Q2: Correlation Analysis\n",
    "\n",
    "# Write SQL queries to calculate the correlation between:\n",
    "# fare_amount and trip_distance.\n",
    "display(spark.sql(\"\"\"\n",
    "SELECT corr(fare_amount, trip_distance) AS correlation_fare_trip FROM taxi\n",
    "\"\"\"))\n",
    "\n",
    "# total_amount and trip_distance.\n",
    "display(spark.sql(\"\"\"\n",
    "SELECT corr(total_amount,trip_distance) AS correlation_total_trip FROM taxi\n",
    "\"\"\"))\n",
    "\n",
    "# Discuss any insights you can draw from these correlations.\n",
    "\n",
    "# The results from the previous question indicate the correlation between fare_amount and trip_distance as well as total_amount and trip_distance have virtual no correlation as both values lie extremely close to 0. This suggests that the total trip distance does not rely on either the fare amount or the total amount paid for the entire taxi trip. It would make sense to except some form of correlation between the values compared above, though many additional factors such as zero trip distances, very short trip distances, and trips with no fare amount could end up skewing the results.\n"
   ]
  },
  {
   "cell_type": "code",
   "execution_count": 0,
   "metadata": {
    "application/vnd.databricks.v1+cell": {
     "cellMetadata": {
      "byteLimit": 2048000,
      "rowLimit": 10000
     },
     "inputWidgets": {},
     "nuid": "74598126-ee5b-4cec-9348-bca9f81f93d9",
     "showTitle": false,
     "tableResultSettingsMap": {},
     "title": ""
    }
   },
   "outputs": [
    {
     "output_type": "display_data",
     "data": {
      "text/html": [
       "<style scoped>\n",
       "  .table-result-container {\n",
       "    max-height: 300px;\n",
       "    overflow: auto;\n",
       "  }\n",
       "  table, th, td {\n",
       "    border: 1px solid black;\n",
       "    border-collapse: collapse;\n",
       "  }\n",
       "  th, td {\n",
       "    padding: 5px;\n",
       "  }\n",
       "  th {\n",
       "    text-align: left;\n",
       "  }\n",
       "</style><div class='table-result-container'><table class='table-result'><thead style='background-color: white'><tr><th>VendorID</th><th>tpep_pickup_datetime</th><th>tpep_dropoff_datetime</th><th>passenger_count</th><th>trip_distance</th><th>pickup_longitude</th><th>pickup_latitude</th><th>RateCodeID</th><th>store_and_fwd_flag</th><th>dropoff_longitude</th><th>dropoff_latitude</th><th>payment_type</th><th>fare_amount</th><th>extra</th><th>mta_tax</th><th>tip_amount</th><th>tolls_amount</th><th>improvement_surcharge</th><th>total_amount</th><th>trip_duration_minutes</th></tr></thead><tbody><tr><td>2</td><td>2015-01-15T19:05:39.000Z</td><td>2015-01-15T19:23:42.000Z</td><td>1</td><td>1.59</td><td>-73.993896484375</td><td>40.7501106262207</td><td>1</td><td>N</td><td>-73.97478485107422</td><td>40.75061798095703</td><td>1</td><td>12.0</td><td>1.0</td><td>0.5</td><td>3.25</td><td>0.0</td><td>0.3</td><td>17.05</td><td>18.05</td></tr><tr><td>1</td><td>2015-01-10T20:33:38.000Z</td><td>2015-01-10T20:53:28.000Z</td><td>1</td><td>3.3</td><td>-74.00164794921875</td><td>40.7242431640625</td><td>1</td><td>N</td><td>-73.99441528320312</td><td>40.75910949707031</td><td>1</td><td>14.5</td><td>0.5</td><td>0.5</td><td>2.0</td><td>0.0</td><td>0.3</td><td>17.8</td><td>19.83</td></tr><tr><td>1</td><td>2015-01-10T20:33:38.000Z</td><td>2015-01-10T20:43:41.000Z</td><td>1</td><td>1.8</td><td>-73.96334075927734</td><td>40.80278778076172</td><td>1</td><td>N</td><td>-73.95182037353516</td><td>40.82441329956055</td><td>2</td><td>9.5</td><td>0.5</td><td>0.5</td><td>0.0</td><td>0.0</td><td>0.3</td><td>10.8</td><td>10.05</td></tr><tr><td>1</td><td>2015-01-10T20:33:39.000Z</td><td>2015-01-10T20:35:31.000Z</td><td>1</td><td>0.5</td><td>-74.00908660888672</td><td>40.71381759643555</td><td>1</td><td>N</td><td>-74.00432586669922</td><td>40.71998596191406</td><td>2</td><td>3.5</td><td>0.5</td><td>0.5</td><td>0.0</td><td>0.0</td><td>0.3</td><td>4.8</td><td>1.87</td></tr><tr><td>1</td><td>2015-01-10T20:33:39.000Z</td><td>2015-01-10T20:52:58.000Z</td><td>1</td><td>3.0</td><td>-73.97117614746094</td><td>40.762428283691406</td><td>1</td><td>N</td><td>-74.00418090820312</td><td>40.742652893066406</td><td>2</td><td>15.0</td><td>0.5</td><td>0.5</td><td>0.0</td><td>0.0</td><td>0.3</td><td>16.3</td><td>19.32</td></tr><tr><td>1</td><td>2015-01-10T20:33:39.000Z</td><td>2015-01-10T20:53:52.000Z</td><td>1</td><td>9.0</td><td>-73.87437438964844</td><td>40.7740478515625</td><td>1</td><td>N</td><td>-73.98697662353516</td><td>40.75819396972656</td><td>1</td><td>27.0</td><td>0.5</td><td>0.5</td><td>6.7</td><td>5.33</td><td>0.3</td><td>40.33</td><td>20.22</td></tr><tr><td>1</td><td>2015-01-10T20:33:39.000Z</td><td>2015-01-10T20:58:31.000Z</td><td>1</td><td>2.2</td><td>-73.9832763671875</td><td>40.726009368896484</td><td>1</td><td>N</td><td>-73.99246978759766</td><td>40.7496337890625</td><td>2</td><td>14.0</td><td>0.5</td><td>0.5</td><td>0.0</td><td>0.0</td><td>0.3</td><td>15.3</td><td>24.87</td></tr><tr><td>1</td><td>2015-01-10T20:33:39.000Z</td><td>2015-01-10T20:42:20.000Z</td><td>3</td><td>0.8</td><td>-74.0026626586914</td><td>40.7341423034668</td><td>1</td><td>N</td><td>-73.99501037597656</td><td>40.72632598876953</td><td>1</td><td>7.0</td><td>0.5</td><td>0.5</td><td>1.66</td><td>0.0</td><td>0.3</td><td>9.96</td><td>8.68</td></tr><tr><td>1</td><td>2015-01-10T20:33:39.000Z</td><td>2015-01-10T21:11:35.000Z</td><td>3</td><td>18.2</td><td>-73.78304290771484</td><td>40.64435577392578</td><td>2</td><td>N</td><td>-73.98759460449219</td><td>40.75935745239258</td><td>2</td><td>52.0</td><td>0.0</td><td>0.5</td><td>0.0</td><td>5.33</td><td>0.3</td><td>58.13</td><td>37.93</td></tr><tr><td>1</td><td>2015-01-10T20:33:40.000Z</td><td>2015-01-10T20:40:44.000Z</td><td>2</td><td>0.9</td><td>-73.98558807373047</td><td>40.767948150634766</td><td>1</td><td>N</td><td>-73.98591613769531</td><td>40.75936508178711</td><td>1</td><td>6.5</td><td>0.5</td><td>0.5</td><td>1.55</td><td>0.0</td><td>0.3</td><td>9.35</td><td>7.07</td></tr><tr><td>1</td><td>2015-01-10T20:33:40.000Z</td><td>2015-01-10T20:41:39.000Z</td><td>1</td><td>0.9</td><td>-73.98861694335938</td><td>40.72310256958008</td><td>1</td><td>N</td><td>-74.00439453125</td><td>40.72858428955078</td><td>1</td><td>7.0</td><td>0.5</td><td>0.5</td><td>1.66</td><td>0.0</td><td>0.3</td><td>9.96</td><td>7.98</td></tr><tr><td>1</td><td>2015-01-10T20:33:41.000Z</td><td>2015-01-10T20:43:26.000Z</td><td>1</td><td>1.1</td><td>-73.99378204345703</td><td>40.75141906738281</td><td>1</td><td>N</td><td>-73.9674072265625</td><td>40.75721740722656</td><td>1</td><td>7.5</td><td>0.5</td><td>0.5</td><td>1.0</td><td>0.0</td><td>0.3</td><td>9.8</td><td>9.75</td></tr><tr><td>1</td><td>2015-01-10T20:33:41.000Z</td><td>2015-01-10T20:35:23.000Z</td><td>1</td><td>0.3</td><td>-74.00836181640625</td><td>40.704376220703125</td><td>1</td><td>N</td><td>-74.00977325439453</td><td>40.707725524902344</td><td>2</td><td>3.0</td><td>0.5</td><td>0.5</td><td>0.0</td><td>0.0</td><td>0.3</td><td>4.3</td><td>1.70</td></tr><tr><td>1</td><td>2015-01-10T20:33:41.000Z</td><td>2015-01-10T21:03:04.000Z</td><td>1</td><td>3.1</td><td>-73.97394561767578</td><td>40.76044845581055</td><td>1</td><td>N</td><td>-73.99734497070312</td><td>40.73521041870117</td><td>1</td><td>19.0</td><td>0.5</td><td>0.5</td><td>3.0</td><td>0.0</td><td>0.3</td><td>23.3</td><td>29.38</td></tr><tr><td>1</td><td>2015-01-10T20:33:41.000Z</td><td>2015-01-10T20:39:23.000Z</td><td>1</td><td>1.1</td><td>-74.00672149658203</td><td>40.73177719116211</td><td>1</td><td>N</td><td>-73.9952163696289</td><td>40.73989486694336</td><td>2</td><td>6.0</td><td>0.5</td><td>0.5</td><td>0.0</td><td>0.0</td><td>0.3</td><td>7.3</td><td>5.70</td></tr><tr><td>2</td><td>2015-01-15T19:05:39.000Z</td><td>2015-01-15T19:32:00.000Z</td><td>1</td><td>2.38</td><td>-73.97642517089844</td><td>40.739810943603516</td><td>1</td><td>N</td><td>-73.98397827148438</td><td>40.75788879394531</td><td>1</td><td>16.5</td><td>1.0</td><td>0.5</td><td>4.38</td><td>0.0</td><td>0.3</td><td>22.68</td><td>26.35</td></tr><tr><td>2</td><td>2015-01-15T19:05:40.000Z</td><td>2015-01-15T19:21:00.000Z</td><td>5</td><td>2.83</td><td>-73.96870422363281</td><td>40.75424575805664</td><td>1</td><td>N</td><td>-73.95512390136719</td><td>40.78685760498047</td><td>2</td><td>12.5</td><td>1.0</td><td>0.5</td><td>0.0</td><td>0.0</td><td>0.3</td><td>14.3</td><td>15.33</td></tr><tr><td>2</td><td>2015-01-15T19:05:40.000Z</td><td>2015-01-15T19:28:18.000Z</td><td>5</td><td>8.33</td><td>-73.8630599975586</td><td>40.76958084106445</td><td>1</td><td>N</td><td>-73.95271301269531</td><td>40.78578186035156</td><td>1</td><td>26.0</td><td>1.0</td><td>0.5</td><td>8.08</td><td>5.33</td><td>0.3</td><td>41.21</td><td>22.63</td></tr><tr><td>2</td><td>2015-01-15T19:05:41.000Z</td><td>2015-01-15T19:20:36.000Z</td><td>1</td><td>2.37</td><td>-73.94554138183594</td><td>40.779422760009766</td><td>1</td><td>N</td><td>-73.98085021972656</td><td>40.78608322143555</td><td>1</td><td>11.5</td><td>1.0</td><td>0.5</td><td>0.0</td><td>0.0</td><td>0.3</td><td>13.3</td><td>14.92</td></tr><tr><td>2</td><td>2015-01-15T19:05:41.000Z</td><td>2015-01-15T19:20:22.000Z</td><td>2</td><td>7.13</td><td>-73.87445831298828</td><td>40.774009704589844</td><td>1</td><td>N</td><td>-73.95237731933594</td><td>40.718589782714844</td><td>1</td><td>21.5</td><td>1.0</td><td>0.5</td><td>4.5</td><td>0.0</td><td>0.3</td><td>27.8</td><td>14.68</td></tr></tbody></table></div>"
      ]
     },
     "metadata": {
      "application/vnd.databricks.v1+output": {
       "addedWidgets": {},
       "aggData": [],
       "aggError": "",
       "aggOverflow": false,
       "aggSchema": [],
       "aggSeriesLimitReached": false,
       "aggType": "",
       "arguments": {},
       "columnCustomDisplayInfos": {},
       "data": [
        [
         2,
         "2015-01-15T19:05:39.000Z",
         "2015-01-15T19:23:42.000Z",
         1,
         1.59,
         -73.993896484375,
         40.7501106262207,
         1,
         "N",
         -73.97478485107422,
         40.75061798095703,
         1,
         12.0,
         1.0,
         0.5,
         3.25,
         0.0,
         0.3,
         17.05,
         "18.05"
        ],
        [
         1,
         "2015-01-10T20:33:38.000Z",
         "2015-01-10T20:53:28.000Z",
         1,
         3.3,
         -74.00164794921875,
         40.7242431640625,
         1,
         "N",
         -73.99441528320312,
         40.75910949707031,
         1,
         14.5,
         0.5,
         0.5,
         2.0,
         0.0,
         0.3,
         17.8,
         "19.83"
        ],
        [
         1,
         "2015-01-10T20:33:38.000Z",
         "2015-01-10T20:43:41.000Z",
         1,
         1.8,
         -73.96334075927734,
         40.80278778076172,
         1,
         "N",
         -73.95182037353516,
         40.82441329956055,
         2,
         9.5,
         0.5,
         0.5,
         0.0,
         0.0,
         0.3,
         10.8,
         "10.05"
        ],
        [
         1,
         "2015-01-10T20:33:39.000Z",
         "2015-01-10T20:35:31.000Z",
         1,
         0.5,
         -74.00908660888672,
         40.71381759643555,
         1,
         "N",
         -74.00432586669922,
         40.71998596191406,
         2,
         3.5,
         0.5,
         0.5,
         0.0,
         0.0,
         0.3,
         4.8,
         "1.87"
        ],
        [
         1,
         "2015-01-10T20:33:39.000Z",
         "2015-01-10T20:52:58.000Z",
         1,
         3.0,
         -73.97117614746094,
         40.762428283691406,
         1,
         "N",
         -74.00418090820312,
         40.742652893066406,
         2,
         15.0,
         0.5,
         0.5,
         0.0,
         0.0,
         0.3,
         16.3,
         "19.32"
        ],
        [
         1,
         "2015-01-10T20:33:39.000Z",
         "2015-01-10T20:53:52.000Z",
         1,
         9.0,
         -73.87437438964844,
         40.7740478515625,
         1,
         "N",
         -73.98697662353516,
         40.75819396972656,
         1,
         27.0,
         0.5,
         0.5,
         6.7,
         5.33,
         0.3,
         40.33,
         "20.22"
        ],
        [
         1,
         "2015-01-10T20:33:39.000Z",
         "2015-01-10T20:58:31.000Z",
         1,
         2.2,
         -73.9832763671875,
         40.726009368896484,
         1,
         "N",
         -73.99246978759766,
         40.7496337890625,
         2,
         14.0,
         0.5,
         0.5,
         0.0,
         0.0,
         0.3,
         15.3,
         "24.87"
        ],
        [
         1,
         "2015-01-10T20:33:39.000Z",
         "2015-01-10T20:42:20.000Z",
         3,
         0.8,
         -74.0026626586914,
         40.7341423034668,
         1,
         "N",
         -73.99501037597656,
         40.72632598876953,
         1,
         7.0,
         0.5,
         0.5,
         1.66,
         0.0,
         0.3,
         9.96,
         "8.68"
        ],
        [
         1,
         "2015-01-10T20:33:39.000Z",
         "2015-01-10T21:11:35.000Z",
         3,
         18.2,
         -73.78304290771484,
         40.64435577392578,
         2,
         "N",
         -73.98759460449219,
         40.75935745239258,
         2,
         52.0,
         0.0,
         0.5,
         0.0,
         5.33,
         0.3,
         58.13,
         "37.93"
        ],
        [
         1,
         "2015-01-10T20:33:40.000Z",
         "2015-01-10T20:40:44.000Z",
         2,
         0.9,
         -73.98558807373047,
         40.767948150634766,
         1,
         "N",
         -73.98591613769531,
         40.75936508178711,
         1,
         6.5,
         0.5,
         0.5,
         1.55,
         0.0,
         0.3,
         9.35,
         "7.07"
        ],
        [
         1,
         "2015-01-10T20:33:40.000Z",
         "2015-01-10T20:41:39.000Z",
         1,
         0.9,
         -73.98861694335938,
         40.72310256958008,
         1,
         "N",
         -74.00439453125,
         40.72858428955078,
         1,
         7.0,
         0.5,
         0.5,
         1.66,
         0.0,
         0.3,
         9.96,
         "7.98"
        ],
        [
         1,
         "2015-01-10T20:33:41.000Z",
         "2015-01-10T20:43:26.000Z",
         1,
         1.1,
         -73.99378204345703,
         40.75141906738281,
         1,
         "N",
         -73.9674072265625,
         40.75721740722656,
         1,
         7.5,
         0.5,
         0.5,
         1.0,
         0.0,
         0.3,
         9.8,
         "9.75"
        ],
        [
         1,
         "2015-01-10T20:33:41.000Z",
         "2015-01-10T20:35:23.000Z",
         1,
         0.3,
         -74.00836181640625,
         40.704376220703125,
         1,
         "N",
         -74.00977325439453,
         40.707725524902344,
         2,
         3.0,
         0.5,
         0.5,
         0.0,
         0.0,
         0.3,
         4.3,
         "1.70"
        ],
        [
         1,
         "2015-01-10T20:33:41.000Z",
         "2015-01-10T21:03:04.000Z",
         1,
         3.1,
         -73.97394561767578,
         40.76044845581055,
         1,
         "N",
         -73.99734497070312,
         40.73521041870117,
         1,
         19.0,
         0.5,
         0.5,
         3.0,
         0.0,
         0.3,
         23.3,
         "29.38"
        ],
        [
         1,
         "2015-01-10T20:33:41.000Z",
         "2015-01-10T20:39:23.000Z",
         1,
         1.1,
         -74.00672149658203,
         40.73177719116211,
         1,
         "N",
         -73.9952163696289,
         40.73989486694336,
         2,
         6.0,
         0.5,
         0.5,
         0.0,
         0.0,
         0.3,
         7.3,
         "5.70"
        ],
        [
         2,
         "2015-01-15T19:05:39.000Z",
         "2015-01-15T19:32:00.000Z",
         1,
         2.38,
         -73.97642517089844,
         40.739810943603516,
         1,
         "N",
         -73.98397827148438,
         40.75788879394531,
         1,
         16.5,
         1.0,
         0.5,
         4.38,
         0.0,
         0.3,
         22.68,
         "26.35"
        ],
        [
         2,
         "2015-01-15T19:05:40.000Z",
         "2015-01-15T19:21:00.000Z",
         5,
         2.83,
         -73.96870422363281,
         40.75424575805664,
         1,
         "N",
         -73.95512390136719,
         40.78685760498047,
         2,
         12.5,
         1.0,
         0.5,
         0.0,
         0.0,
         0.3,
         14.3,
         "15.33"
        ],
        [
         2,
         "2015-01-15T19:05:40.000Z",
         "2015-01-15T19:28:18.000Z",
         5,
         8.33,
         -73.8630599975586,
         40.76958084106445,
         1,
         "N",
         -73.95271301269531,
         40.78578186035156,
         1,
         26.0,
         1.0,
         0.5,
         8.08,
         5.33,
         0.3,
         41.21,
         "22.63"
        ],
        [
         2,
         "2015-01-15T19:05:41.000Z",
         "2015-01-15T19:20:36.000Z",
         1,
         2.37,
         -73.94554138183594,
         40.779422760009766,
         1,
         "N",
         -73.98085021972656,
         40.78608322143555,
         1,
         11.5,
         1.0,
         0.5,
         0.0,
         0.0,
         0.3,
         13.3,
         "14.92"
        ],
        [
         2,
         "2015-01-15T19:05:41.000Z",
         "2015-01-15T19:20:22.000Z",
         2,
         7.13,
         -73.87445831298828,
         40.774009704589844,
         1,
         "N",
         -73.95237731933594,
         40.718589782714844,
         1,
         21.5,
         1.0,
         0.5,
         4.5,
         0.0,
         0.3,
         27.8,
         "14.68"
        ]
       ],
       "datasetInfos": [],
       "dbfsResultPath": null,
       "isJsonSchema": true,
       "metadata": {},
       "overflow": false,
       "plotOptions": {
        "customPlotOptions": {},
        "displayType": "table",
        "pivotAggregation": null,
        "pivotColumns": null,
        "xColumns": null,
        "yColumns": null
       },
       "removedWidgets": [],
       "schema": [
        {
         "metadata": "{}",
         "name": "VendorID",
         "type": "\"integer\""
        },
        {
         "metadata": "{}",
         "name": "tpep_pickup_datetime",
         "type": "\"timestamp\""
        },
        {
         "metadata": "{}",
         "name": "tpep_dropoff_datetime",
         "type": "\"timestamp\""
        },
        {
         "metadata": "{}",
         "name": "passenger_count",
         "type": "\"integer\""
        },
        {
         "metadata": "{}",
         "name": "trip_distance",
         "type": "\"double\""
        },
        {
         "metadata": "{}",
         "name": "pickup_longitude",
         "type": "\"double\""
        },
        {
         "metadata": "{}",
         "name": "pickup_latitude",
         "type": "\"double\""
        },
        {
         "metadata": "{}",
         "name": "RateCodeID",
         "type": "\"integer\""
        },
        {
         "metadata": "{}",
         "name": "store_and_fwd_flag",
         "type": "\"string\""
        },
        {
         "metadata": "{}",
         "name": "dropoff_longitude",
         "type": "\"double\""
        },
        {
         "metadata": "{}",
         "name": "dropoff_latitude",
         "type": "\"double\""
        },
        {
         "metadata": "{}",
         "name": "payment_type",
         "type": "\"integer\""
        },
        {
         "metadata": "{}",
         "name": "fare_amount",
         "type": "\"double\""
        },
        {
         "metadata": "{}",
         "name": "extra",
         "type": "\"double\""
        },
        {
         "metadata": "{}",
         "name": "mta_tax",
         "type": "\"double\""
        },
        {
         "metadata": "{}",
         "name": "tip_amount",
         "type": "\"double\""
        },
        {
         "metadata": "{}",
         "name": "tolls_amount",
         "type": "\"double\""
        },
        {
         "metadata": "{}",
         "name": "improvement_surcharge",
         "type": "\"double\""
        },
        {
         "metadata": "{}",
         "name": "total_amount",
         "type": "\"double\""
        },
        {
         "metadata": "{}",
         "name": "trip_duration_minutes",
         "type": "\"decimal(24,2)\""
        }
       ],
       "type": "table"
      }
     },
     "output_type": "display_data"
    },
    {
     "output_type": "display_data",
     "data": {
      "text/html": [
       "<style scoped>\n",
       "  .table-result-container {\n",
       "    max-height: 300px;\n",
       "    overflow: auto;\n",
       "  }\n",
       "  table, th, td {\n",
       "    border: 1px solid black;\n",
       "    border-collapse: collapse;\n",
       "  }\n",
       "  th, td {\n",
       "    padding: 5px;\n",
       "  }\n",
       "  th {\n",
       "    text-align: left;\n",
       "  }\n",
       "</style><div class='table-result-container'><table class='table-result'><thead style='background-color: white'><tr><th>passenger_count</th><th>avg_trip_duration_minutes</th></tr></thead><tbody><tr><td>0</td><td>12.56</td></tr><tr><td>1</td><td>14.25</td></tr><tr><td>2</td><td>13.84</td></tr><tr><td>3</td><td>14.03</td></tr><tr><td>4</td><td>13.84</td></tr><tr><td>5</td><td>14.52</td></tr><tr><td>6</td><td>14.05</td></tr><tr><td>7</td><td>8.84</td></tr><tr><td>8</td><td>5.34</td></tr><tr><td>9</td><td>15.79</td></tr></tbody></table></div>"
      ]
     },
     "metadata": {
      "application/vnd.databricks.v1+output": {
       "addedWidgets": {},
       "aggData": [],
       "aggError": "",
       "aggOverflow": false,
       "aggSchema": [],
       "aggSeriesLimitReached": false,
       "aggType": "",
       "arguments": {},
       "columnCustomDisplayInfos": {},
       "data": [
        [
         0,
         "12.56"
        ],
        [
         1,
         "14.25"
        ],
        [
         2,
         "13.84"
        ],
        [
         3,
         "14.03"
        ],
        [
         4,
         "13.84"
        ],
        [
         5,
         "14.52"
        ],
        [
         6,
         "14.05"
        ],
        [
         7,
         "8.84"
        ],
        [
         8,
         "5.34"
        ],
        [
         9,
         "15.79"
        ]
       ],
       "datasetInfos": [],
       "dbfsResultPath": null,
       "isJsonSchema": true,
       "metadata": {},
       "overflow": false,
       "plotOptions": {
        "customPlotOptions": {},
        "displayType": "table",
        "pivotAggregation": null,
        "pivotColumns": null,
        "xColumns": null,
        "yColumns": null
       },
       "removedWidgets": [],
       "schema": [
        {
         "metadata": "{}",
         "name": "passenger_count",
         "type": "\"integer\""
        },
        {
         "metadata": "{}",
         "name": "avg_trip_duration_minutes",
         "type": "\"decimal(24,2)\""
        }
       ],
       "type": "table"
      }
     },
     "output_type": "display_data"
    }
   ],
   "source": [
    "# Q3: Trip Duration Prediction\n",
    "\n",
    "# Calculate the trip duration in minutes for each trip.\n",
    "display(spark.sql(\"\"\"\n",
    "SELECT *,ROUND((unix_timestamp(tpep_dropoff_datetime) -unix_timestamp(tpep_pickup_datetime))/ 60.0, 2) AS trip_duration_minutes \n",
    "FROM taxi\n",
    "LIMIT 20\"\"\"))\n",
    "\n",
    "# Write a SQL query to find the average trip duration for trips with different passenger counts.\n",
    "display(spark.sql(\"\"\"\n",
    "SELECT passenger_count, ROUND(AVG((unix_timestamp(tpep_dropoff_datetime) - unix_timestamp(tpep_pickup_datetime)) / 60.0), 2) AS avg_trip_duration_minutes FROM taxi\n",
    "GROUP BY passenger_count\n",
    "ORDER BY passenger_count\n",
    "\"\"\"))\n"
   ]
  },
  {
   "cell_type": "code",
   "execution_count": 0,
   "metadata": {
    "application/vnd.databricks.v1+cell": {
     "cellMetadata": {
      "byteLimit": 2048000,
      "rowLimit": 10000
     },
     "inputWidgets": {},
     "nuid": "11b8679f-0c0d-4ee7-9ada-cedbb2a11313",
     "showTitle": false,
     "tableResultSettingsMap": {},
     "title": ""
    }
   },
   "outputs": [
    {
     "output_type": "display_data",
     "data": {
      "text/html": [
       "<style scoped>\n",
       "  .table-result-container {\n",
       "    max-height: 300px;\n",
       "    overflow: auto;\n",
       "  }\n",
       "  table, th, td {\n",
       "    border: 1px solid black;\n",
       "    border-collapse: collapse;\n",
       "  }\n",
       "  th, td {\n",
       "    padding: 5px;\n",
       "  }\n",
       "  th {\n",
       "    text-align: left;\n",
       "  }\n",
       "</style><div class='table-result-container'><table class='table-result'><thead style='background-color: white'><tr><th>distance_bin</th><th>avg_fare_amount</th></tr></thead><tbody><tr><td>>5 miles</td><td>31.26</td></tr><tr><td>2-5 miles</td><td>13.09</td></tr><tr><td>1-2 miles</td><td>8.04</td></tr><tr><td><1 mile</td><td>5.67</td></tr></tbody></table></div>"
      ]
     },
     "metadata": {
      "application/vnd.databricks.v1+output": {
       "addedWidgets": {},
       "aggData": [],
       "aggError": "",
       "aggOverflow": false,
       "aggSchema": [],
       "aggSeriesLimitReached": false,
       "aggType": "",
       "arguments": {},
       "columnCustomDisplayInfos": {},
       "data": [
        [
         ">5 miles",
         31.26
        ],
        [
         "2-5 miles",
         13.09
        ],
        [
         "1-2 miles",
         8.04
        ],
        [
         "<1 mile",
         5.67
        ]
       ],
       "datasetInfos": [],
       "dbfsResultPath": null,
       "isJsonSchema": true,
       "metadata": {},
       "overflow": false,
       "plotOptions": {
        "customPlotOptions": {},
        "displayType": "table",
        "pivotAggregation": null,
        "pivotColumns": null,
        "xColumns": null,
        "yColumns": null
       },
       "removedWidgets": [],
       "schema": [
        {
         "metadata": "{}",
         "name": "distance_bin",
         "type": "\"string\""
        },
        {
         "metadata": "{}",
         "name": "avg_fare_amount",
         "type": "\"double\""
        }
       ],
       "type": "table"
      }
     },
     "output_type": "display_data"
    }
   ],
   "source": [
    "# Q4: Trip Clustering\n",
    "\n",
    "# Categorize trips into distance bins and calculate average fare per bin.\n",
    "result = spark.sql(\"\"\"\n",
    "SELECT\n",
    "    CASE\n",
    "        WHEN trip_distance < 1 THEN '<1 mile'\n",
    "        WHEN trip_distance >= 1 AND trip_distance < 2 THEN '1-2 miles'\n",
    "        WHEN trip_distance >= 2 AND trip_distance < 5 THEN '2-5 miles'\n",
    "        ELSE '>5 miles'\n",
    "    END AS distance_bin,\n",
    "    ROUND(AVG(fare_amount), 2) AS avg_fare_amount\n",
    "FROM taxi\n",
    "GROUP BY\n",
    "    CASE\n",
    "        WHEN trip_distance < 1 THEN '<1 mile'\n",
    "        WHEN trip_distance >= 1 AND trip_distance < 2 THEN '1-2 miles'\n",
    "        WHEN trip_distance >= 2 AND trip_distance < 5 THEN '2-5 miles'\n",
    "        ELSE '>5 miles'\n",
    "    END\n",
    "ORDER BY avg_fare_amount DESC\n",
    "\"\"\")\n",
    "\n",
    "display(result)\n"
   ]
  },
  {
   "cell_type": "code",
   "execution_count": 0,
   "metadata": {
    "application/vnd.databricks.v1+cell": {
     "cellMetadata": {
      "byteLimit": 2048000,
      "rowLimit": 10000
     },
     "inputWidgets": {},
     "nuid": "ff398a77-aca8-4389-a260-b180494f427b",
     "showTitle": false,
     "tableResultSettingsMap": {},
     "title": ""
    }
   },
   "outputs": [
    {
     "output_type": "display_data",
     "data": {
      "text/html": [
       "<style scoped>\n",
       "  .table-result-container {\n",
       "    max-height: 300px;\n",
       "    overflow: auto;\n",
       "  }\n",
       "  table, th, td {\n",
       "    border: 1px solid black;\n",
       "    border-collapse: collapse;\n",
       "  }\n",
       "  th, td {\n",
       "    padding: 5px;\n",
       "  }\n",
       "  th {\n",
       "    text-align: left;\n",
       "  }\n",
       "</style><div class='table-result-container'><table class='table-result'><thead style='background-color: white'><tr><th>distance_bin</th><th>avg_fare_amount</th></tr></thead><tbody><tr><td>>5 miles</td><td>31.26</td></tr><tr><td>2-5 miles</td><td>13.09</td></tr><tr><td>1-2 miles</td><td>8.04</td></tr><tr><td><1 mile</td><td>5.67</td></tr></tbody></table></div>"
      ]
     },
     "metadata": {
      "application/vnd.databricks.v1+output": {
       "addedWidgets": {},
       "aggData": [],
       "aggError": "",
       "aggOverflow": false,
       "aggSchema": [],
       "aggSeriesLimitReached": false,
       "aggType": "",
       "arguments": {},
       "columnCustomDisplayInfos": {},
       "data": [
        [
         ">5 miles",
         31.26
        ],
        [
         "2-5 miles",
         13.09
        ],
        [
         "1-2 miles",
         8.04
        ],
        [
         "<1 mile",
         5.67
        ]
       ],
       "datasetInfos": [],
       "dbfsResultPath": null,
       "isJsonSchema": true,
       "metadata": {},
       "overflow": false,
       "plotOptions": {
        "customPlotOptions": {},
        "displayType": "table",
        "pivotAggregation": null,
        "pivotColumns": null,
        "xColumns": null,
        "yColumns": null
       },
       "removedWidgets": [],
       "schema": [
        {
         "metadata": "{}",
         "name": "distance_bin",
         "type": "\"string\""
        },
        {
         "metadata": "{}",
         "name": "avg_fare_amount",
         "type": "\"double\""
        }
       ],
       "type": "table"
      }
     },
     "output_type": "display_data"
    },
    {
     "output_type": "display_data",
     "data": {
      "image/png": "[encoded data removed]",
      "text/plain": [
       "<Figure size 640x480 with 1 Axes>"
      ]
     },
     "metadata": {},
     "output_type": "display_data"
    }
   ],
   "source": [
    "import matplotlib.pyplot as plt\n",
    "\n",
    "# Q5: Fare Amount vs. Distance Analysis\n",
    "\n",
    "# Create bins for trip distances and calculate the average fare amount for each bin.\n",
    "result = spark.sql(\"\"\"\n",
    "SELECT\n",
    "    CASE\n",
    "        WHEN trip_distance < 1 THEN '<1 mile'\n",
    "        WHEN trip_distance >= 1 AND trip_distance < 2 THEN '1-2 miles'\n",
    "        WHEN trip_distance >= 2 AND trip_distance < 5 THEN '2-5 miles'\n",
    "        ELSE '>5 miles'\n",
    "    END AS distance_bin,\n",
    "    ROUND(AVG(fare_amount), 2) AS avg_fare_amount\n",
    "FROM taxi\n",
    "GROUP BY\n",
    "    CASE\n",
    "        WHEN trip_distance < 1 THEN '<1 mile'\n",
    "        WHEN trip_distance >= 1 AND trip_distance < 2 THEN '1-2 miles'\n",
    "        WHEN trip_distance >= 2 AND trip_distance < 5 THEN '2-5 miles'\n",
    "        ELSE '>5 miles'\n",
    "    END\n",
    "ORDER BY avg_fare_amount DESC\n",
    "\"\"\")\n",
    "display(result)\n",
    "#A bar chart visualization of the average fare amounts by distance range.\n",
    "pdf = result.toPandas()\n",
    "\n",
    "\n",
    "plt.bar(pdf['distance_bin'], pdf['avg_fare_amount'])\n",
    "plt.xlabel('Distance range (miles)')\n",
    "plt.ylabel('Average fare amounts ($)')\n",
    "plt.title('Average Fare by Distance Range')\n",
    "plt.xticks(range(0, 4), ['<1 mile', '1-2 miles', '2-5 miles', '>5 miles'])\n",
    "plt.show()\n"
   ]
  }
 ],
 "metadata": {
  "application/vnd.databricks.v1+notebook": {
   "computePreferences": null,
   "dashboards": [],
   "environmentMetadata": {
    "base_environment": "",
    "environment_version": "4"
   },
   "inputWidgetPreferences": null,
   "language": "python",
   "notebookMetadata": {
    "pythonIndentUnit": 4
   },
   "notebookName": "CP 422 Assignment 2",
   "widgets": {}
  },
  "language_info": {
   "name": "python"
  }
 },
 "nbformat": 4,
 "nbformat_minor": 0
}